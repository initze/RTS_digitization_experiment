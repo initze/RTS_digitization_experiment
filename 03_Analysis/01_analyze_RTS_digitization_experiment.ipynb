{
 "cells": [
  {
   "cell_type": "markdown",
   "id": "48b58a69-98d5-4358-b6d3-8b9daaf586a5",
   "metadata": {},
   "source": [
    "## Script to analyze RTS InTrain experiments and create outputs"
   ]
  },
  {
   "cell_type": "markdown",
   "id": "24b9821c-57b2-4735-8f07-e93a86d4a8c3",
   "metadata": {},
   "source": [
    "### Imports "
   ]
  },
  {
   "cell_type": "code",
   "execution_count": null,
   "id": "cc080d5d-0f1a-4425-bca0-32a77a17590a",
   "metadata": {
    "tags": []
   },
   "outputs": [],
   "source": [
    "import warnings\n",
    "from pathlib import Path\n",
    "\n",
    "import pandas as pd\n",
    "from utils import *\n",
    "from utils_plotting import *\n",
    "\n",
    "warnings.simplefilter(action='ignore', category=FutureWarning)"
   ]
  },
  {
   "cell_type": "markdown",
   "id": "284cd70e-4c95-4e44-bf78-5d6767938268",
   "metadata": {},
   "source": [
    "### Settings / Constants "
   ]
  },
  {
   "cell_type": "code",
   "execution_count": null,
   "id": "82b41be0-67e5-4309-ae77-8df5363f98fb",
   "metadata": {
    "tags": []
   },
   "outputs": [],
   "source": [
    "DATA_DIR = Path('../02_UserResults')\n",
    "DATA_BYK = Path('Bykovsky_digitized.shp')\n",
    "DATA_PEEL = Path('Peel_digitized.shp')\n",
    "\n",
    "RASTER_PEEL = Path('../01_Setup/Peel/data/PlanetScope_4763844_0870513_2021-08-04_2416_BGRN_SR.tif')\n",
    "RASTER_BYK = Path('../01_Setup/Bykovsky/data/PlanetScope_4713120_5272315_2021-07-21_2463_BGRN_SR.tif')\n",
    "\n",
    "FIG_DIR = Path('figures')\n",
    "os.makedirs(FIG_DIR, exist_ok=True)\n",
    "\n",
    "TOTAL_AREA = 2500**2\n",
    "\n",
    "flist_byk = list(DATA_DIR.glob(f'*/{DATA_BYK}'))\n",
    "flist_peel = list(DATA_DIR.glob(f'*/{DATA_PEEL}'))"
   ]
  },
  {
   "cell_type": "markdown",
   "id": "98663918-7780-4619-87cb-d3db39bc22b5",
   "metadata": {},
   "source": [
    "### Load Data "
   ]
  },
  {
   "cell_type": "markdown",
   "id": "720a43c9",
   "metadata": {},
   "source": [
    "### Select Site here"
   ]
  },
  {
   "cell_type": "code",
   "execution_count": null,
   "id": "849fface-8546-4fdb-a273-157f6d00cc83",
   "metadata": {
    "tags": []
   },
   "outputs": [],
   "source": [
    "#site = 'Peel'\n",
    "site = 'Bykovsky'"
   ]
  },
  {
   "cell_type": "code",
   "execution_count": null,
   "id": "a9b7bdd2-4711-4d5e-8fd3-bbd2f014f2ad",
   "metadata": {
    "tags": []
   },
   "outputs": [],
   "source": [
    "if site == 'Peel':\n",
    "    flist = flist_peel\n",
    "    raster = RASTER_PEEL\n",
    "elif site == 'Bykovsky':\n",
    "    flist = flist_byk\n",
    "    raster = RASTER_BYK\n",
    "\n",
    "# define file for number of overlaps\n",
    "overlap_file = Path(f'{site}_digitized_overlap.gpkg')\n",
    "\n",
    "# create dir for figures\n",
    "(FIG_DIR / site).mkdir(exist_ok=True)"
   ]
  },
  {
   "cell_type": "markdown",
   "id": "e339668e",
   "metadata": {},
   "source": [
    "#### Read files"
   ]
  },
  {
   "cell_type": "code",
   "execution_count": null,
   "id": "e52e7af1-b376-47ef-94b4-c1b726bdb203",
   "metadata": {
    "tags": []
   },
   "outputs": [],
   "source": [
    "# read shape/file files to gpd DataFrames\n",
    "dfs = read_files2(flist=flist, area=site)\n",
    "\n",
    "# created df with dissolved data\n",
    "joined = pd.concat([df.dissolve() for df in dfs]).sort_values('creator_id').reset_index(drop=True)\n",
    "\n",
    "creators = joined['creator_id']"
   ]
  },
  {
   "cell_type": "markdown",
   "id": "52a06f50-78c6-4c51-9632-f0c8dd980f34",
   "metadata": {},
   "source": [
    "#### Plot correlation matrix\n",
    "* set figut background color to white\n",
    "* align names on xlabel "
   ]
  },
  {
   "cell_type": "code",
   "execution_count": null,
   "id": "99c5e920-3fb7-470d-8fbf-9ea5bd3d71d3",
   "metadata": {
    "tags": []
   },
   "outputs": [],
   "source": [
    "HALF = True\n",
    "iou_array, df_metrics = create_iou_matrix_joined(joined, half=True, drop_same=False)"
   ]
  },
  {
   "cell_type": "code",
   "execution_count": null,
   "id": "cfb789fb",
   "metadata": {
    "tags": []
   },
   "outputs": [],
   "source": [
    "# save to use and merge in illustrator\n",
    "figure_path = FIG_DIR / site / f'{site}_IoUMatrix.png'\n",
    "if figure_path is not None:\n",
    "    os.makedirs(figure_path.parent, exist_ok=True)\n",
    "plot_iou_matrix(site, iou_array, creators, save_path=figure_path, title=False, half=HALF, colorbar=False, fontcolor_change=0.6, transparent=False)"
   ]
  },
  {
   "cell_type": "markdown",
   "id": "b64fe13c-2344-4283-be6c-f9b959e5a946",
   "metadata": {},
   "source": [
    "#### Table output"
   ]
  },
  {
   "cell_type": "code",
   "execution_count": null,
   "id": "9768c56c-cf10-45cc-b27a-66fd6cca1499",
   "metadata": {
    "tags": []
   },
   "outputs": [],
   "source": [
    "# calculate metrics\n",
    "HALF = True\n",
    "iou_array_half, df_metrics_half = create_iou_matrix_joined(joined, half=HALF, drop_same=True)"
   ]
  },
  {
   "cell_type": "code",
   "execution_count": null,
   "id": "9ed8ae1c-19fe-4ff9-9b6e-d576a9f4733c",
   "metadata": {},
   "outputs": [],
   "source": [
    "# calculate single objects\n",
    "df_metrics_half_single = df_metrics_half.drop_duplicates(subset=['creator_1'])"
   ]
  },
  {
   "cell_type": "code",
   "execution_count": null,
   "id": "8c7b947b-bfa6-4fcc-b0a5-c98145e34787",
   "metadata": {},
   "outputs": [],
   "source": [
    "sorted_metrics_styled = style_results_table(df_metrics_half)\n",
    "correlation_table_path = FIG_DIR / site / f'{site}_correlation_summary.html'\n",
    "sorted_metrics_styled.to_html(correlation_table_path)"
   ]
  },
  {
   "cell_type": "markdown",
   "id": "bb50908b-4efd-4f11-85ec-64857ea81ed6",
   "metadata": {
    "tags": []
   },
   "source": [
    "### Basic stats"
   ]
  },
  {
   "cell_type": "markdown",
   "id": "c0cd4aad-d9cf-422f-8a1e-3a034ead7fa8",
   "metadata": {},
   "source": [
    "#### Individual objects"
   ]
  },
  {
   "cell_type": "code",
   "execution_count": null,
   "id": "6ada0294-b481-45bb-ac0a-acaccebb641c",
   "metadata": {},
   "outputs": [],
   "source": [
    "# mode of number of features\n",
    "pd.value_counts(df_metrics_half_single['df1_number'])"
   ]
  },
  {
   "cell_type": "markdown",
   "id": "8a84bb6b-f1b7-4610-82f5-83a633d55c55",
   "metadata": {},
   "source": [
    "#### Group stats"
   ]
  },
  {
   "cell_type": "code",
   "execution_count": null,
   "id": "9f7077c9-05bd-4fce-a0b7-900e625831cb",
   "metadata": {
    "tags": []
   },
   "outputs": [],
   "source": [
    "mean_values = df_metrics_half.mean().round(2)\n",
    "std_deviation = df_metrics_half.std().round(2)"
   ]
  },
  {
   "cell_type": "markdown",
   "id": "182a1230-1c21-4dca-a12b-140c99cc34ae",
   "metadata": {
    "tags": []
   },
   "source": [
    "#### Output raster\n",
    "* single result"
   ]
  },
  {
   "cell_type": "code",
   "execution_count": null,
   "id": "54992c0b-4ea4-4f1e-a704-0b94a86d4aca",
   "metadata": {
    "tags": []
   },
   "outputs": [],
   "source": [
    "# set properties\n",
    "kwargs_norm=dict(p_low=1, p_high=97)\n",
    "kwargs_fig_image=dict(figsize=(8,8), dpi=300)"
   ]
  },
  {
   "cell_type": "markdown",
   "id": "38d5894c-022a-4725-b94d-c64503bbcf55",
   "metadata": {},
   "source": [
    "####  Save Base image "
   ]
  },
  {
   "cell_type": "code",
   "execution_count": null,
   "id": "9b7d1c69",
   "metadata": {
    "tags": []
   },
   "outputs": [],
   "source": [
    "transparent = True\n",
    "save_path = FIG_DIR / site / f'{site}_321.png'\n",
    "show_image(raster, save_path=save_path, title=None, kwargs_fig_image=kwargs_fig_image, kwargs_norm=kwargs_norm, bands=[3,2,1], transparent=transparent)\n",
    "\n",
    "save_path = FIG_DIR / site / f'{site}_432.png'\n",
    "show_image(raster, save_path=save_path, title=None, kwargs_fig_image=kwargs_fig_image, kwargs_norm=kwargs_norm, bands=[4,3,2], transparent=transparent)"
   ]
  },
  {
   "cell_type": "markdown",
   "id": "2da4ab5e-d02f-441f-b750-2e82b6f4154b",
   "metadata": {},
   "source": [
    "### Plot label outlines over Raster"
   ]
  },
  {
   "cell_type": "code",
   "execution_count": null,
   "id": "0fbebbf7-7135-4a58-a163-92e6617803f0",
   "metadata": {
    "tags": []
   },
   "outputs": [],
   "source": [
    "target_directory = FIG_DIR / site / 'CIR'\n",
    "show_raster = True\n",
    "os.makedirs(target_directory, exist_ok=True)\n",
    "plot_results_individual(joined, raster, site, target_directory, kwargs_fig_image=kwargs_fig_image, \n",
    "                        kwargs_norm=kwargs_norm, bands=[4,3,2], \n",
    "                        edgecolor='k', facecolor=(0,0,0,0.2), linewidth=1,\n",
    "                        show_raster=show_raster)"
   ]
  },
  {
   "cell_type": "code",
   "execution_count": null,
   "id": "d0cab4d8-8f2f-4c9e-b17a-042a9c7fa87b",
   "metadata": {
    "tags": []
   },
   "outputs": [],
   "source": [
    "target_directory = FIG_DIR / site / 'RGB'\n",
    "show_raster = True\n",
    "os.makedirs(target_directory, exist_ok=True)\n",
    "plot_results_individual(joined, raster, site, target_directory, kwargs_fig_image=kwargs_fig_image, \n",
    "                        kwargs_norm=kwargs_norm, bands=[3,2,1], \n",
    "                        edgecolor='k', facecolor=(0,0,0,0.2), linewidth=1,\n",
    "                        show_raster=show_raster)"
   ]
  },
  {
   "cell_type": "markdown",
   "id": "8b0c1b41-8e53-40f6-97b2-76a027137c40",
   "metadata": {},
   "source": [
    "### Compare against each other visually "
   ]
  },
  {
   "cell_type": "markdown",
   "id": "2ba88080-7c6d-4831-8d21-e8bdd8b74204",
   "metadata": {},
   "source": [
    "#### Plot differences\n",
    "* plot each combination"
   ]
  },
  {
   "cell_type": "code",
   "execution_count": null,
   "id": "256e7f6d-df50-47ba-be6d-a0fa11e39e02",
   "metadata": {
    "tags": []
   },
   "outputs": [],
   "source": [
    "# bg alpha = 0.2\n",
    "fig_dir = FIG_DIR / site / 'diff' / 'RGBalpha02'\n",
    "plot_diff(raster, plot_data, creators, site, fig_dir, kwargs_fig_image, kwargs_norm, \n",
    "          raster_alpha=0.2, bands=[3,2,1], show_title=False, save_fig=True, facecolor_intersection='yellow')\n",
    "\n",
    "# bg alpha = 0.2\n",
    "fig_dir = FIG_DIR / site / 'diff' / 'CIRalpha02'\n",
    "plot_diff(raster, plot_data, creators, site, fig_dir, kwargs_fig_image, kwargs_norm, \n",
    "          raster_alpha=0.2, bands=[4,3,2], show_title=False, save_fig=True, facecolor_intersection='yellow')"
   ]
  },
  {
   "cell_type": "markdown",
   "id": "630efed9-8764-4dfa-bd29-ced6c5765a48",
   "metadata": {},
   "source": [
    "#### Plot Consensus"
   ]
  },
  {
   "cell_type": "code",
   "execution_count": null,
   "id": "e62ab291-1d45-4fdd-adb7-13f0c08057f1",
   "metadata": {
    "tags": []
   },
   "outputs": [],
   "source": [
    "target_image_dir = FIG_DIR / site\n",
    "save_path = target_image_dir / f'Consensus_map_{site}.png'"
   ]
  },
  {
   "cell_type": "code",
   "execution_count": null,
   "id": "59f60dde-a134-4f9f-951a-9fd5b39395d0",
   "metadata": {},
   "outputs": [],
   "source": [
    "kwargs_plot=dict(edgecolor=(0.2,0.2,0.2,1), lw=1)\n",
    "show_consensus(image_path=raster, gdf=joined, \n",
    "               kwargs_norm=kwargs_norm, kwargs_plot=kwargs_plot,\n",
    "               save_path=save_path, transparent=False)"
   ]
  }
 ],
 "metadata": {
  "kernelspec": {
   "display_name": "Python 3 (ipykernel)",
   "language": "python",
   "name": "python3"
  },
  "language_info": {
   "codemirror_mode": {
    "name": "ipython",
    "version": 3
   },
   "file_extension": ".py",
   "mimetype": "text/x-python",
   "name": "python",
   "nbconvert_exporter": "python",
   "pygments_lexer": "ipython3",
   "version": "3.11.9"
  }
 },
 "nbformat": 4,
 "nbformat_minor": 5
}
