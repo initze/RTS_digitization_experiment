{
 "cells": [
  {
   "cell_type": "markdown",
   "id": "17ce7f25-c2b0-426a-a883-ae5f9bc3cd38",
   "metadata": {},
   "source": [
    "# Script to download Sentinel2 Landsat and ArcticDEM Data form GEE"
   ]
  },
  {
   "cell_type": "code",
   "execution_count": 3,
   "id": "bc2b7815-7426-4ee6-9253-3a0b5ba84cb9",
   "metadata": {},
   "outputs": [],
   "source": [
    "import geemap\n",
    "import geopandas as gpd\n",
    "from pathlib import Path\n",
    "import ee\n",
    "\n",
    "ee.Initialize()"
   ]
  },
  {
   "cell_type": "code",
   "execution_count": 4,
   "id": "5d22fdb0-1778-4c7a-800b-3c784c60ed8b",
   "metadata": {},
   "outputs": [],
   "source": [
    "LOCATION = 'Peel'\n",
    "vector = f'{LOCATION}/{LOCATION}_AOI_2500.geojson'\n",
    "aoi_fc = geemap.vector_to_ee(vector)"
   ]
  },
  {
   "cell_type": "code",
   "execution_count": 5,
   "id": "50c21f82-adbb-4344-80dc-a61517197db2",
   "metadata": {
    "tags": []
   },
   "outputs": [],
   "source": [
    "image_date = '2021-08-02'\n",
    "s2_export_bands = ['B2', 'B3', 'B4', 'B5', 'B6', 'B7','B8','B8A', 'B11', 'B12']\n",
    "l8_export_bands = ['B2', 'B3', 'B4', 'B5', 'B6', 'B7', 'B8']"
   ]
  },
  {
   "cell_type": "markdown",
   "id": "07f8d7cb-81a6-4331-b378-41eba8137ccb",
   "metadata": {},
   "source": [
    "### S2 - Select S2 images"
   ]
  },
  {
   "cell_type": "code",
   "execution_count": 6,
   "id": "b4af8def-d020-4102-8653-c5ffff63ceda",
   "metadata": {},
   "outputs": [],
   "source": [
    "s2_col = ee.ImageCollection(\"COPERNICUS/S2\").filterBounds(aoi_fc).filterDate(image_date, '2021-08-22')"
   ]
  },
  {
   "cell_type": "code",
   "execution_count": 7,
   "id": "44667e5c-f06d-4d06-9973-0981b175437e",
   "metadata": {},
   "outputs": [
    {
     "data": {
      "text/plain": [
       "12"
      ]
     },
     "execution_count": 7,
     "metadata": {},
     "output_type": "execute_result"
    }
   ],
   "source": [
    "# Number of intersecting images\n",
    "len(s2_col.toList(20).getInfo())"
   ]
  },
  {
   "cell_type": "markdown",
   "id": "3e1f8def-42dd-48c2-b675-bb1b8086c7b4",
   "metadata": {
    "tags": []
   },
   "source": [
    "#### Select correct image"
   ]
  },
  {
   "cell_type": "code",
   "execution_count": 31,
   "id": "52ac2595-7a99-48d8-a31a-b83b8015a08f",
   "metadata": {},
   "outputs": [],
   "source": [
    "s2_image = ee.Image(s2_col.toList(100).get(11))"
   ]
  },
  {
   "cell_type": "code",
   "execution_count": 32,
   "id": "6d3e3e68-8f2a-4273-bdaf-0eaf00cc0b9a",
   "metadata": {},
   "outputs": [
    {
     "data": {
      "application/vnd.jupyter.widget-view+json": {
       "model_id": "721204ba98b64b8dbe2c53704d7b636c",
       "version_major": 2,
       "version_minor": 0
      },
      "text/plain": [
       "Map(center=[68.05160666711596, -135.66788358482464], controls=(WidgetControl(options=['position', 'transparent…"
      ]
     },
     "metadata": {},
     "output_type": "display_data"
    }
   ],
   "source": [
    "Map = geemap.Map()\n",
    "Map.add_ee_layer(s2_image, vis_params=dict(min=0, max=2000))\n",
    "Map.add_ee_layer(aoi_fc)\n",
    "Map.centerObject(aoi_fc, zoom=12)\n",
    "Map"
   ]
  },
  {
   "cell_type": "markdown",
   "id": "5622b8eb-e27c-4a3f-9731-7bdaaeec3d5a",
   "metadata": {},
   "source": [
    "#### Download S2 image"
   ]
  },
  {
   "cell_type": "code",
   "execution_count": 37,
   "id": "6e63c8b2-8a94-4199-934f-5962af1a0e85",
   "metadata": {},
   "outputs": [
    {
     "name": "stdout",
     "output_type": "stream",
     "text": [
      "Generating URL ...\n",
      "Downloading data from https://earthengine.googleapis.com/v1alpha/projects/earthengine-legacy/thumbnails/4e4e031c1b698eb9c567222dc7c6a1e3-aefcd505fac839aad33e9712c55c968f:getPixels\n",
      "Please wait ...\n",
      "Data downloaded to C:\\Users\\initze\\OneDrive\\146_RTSIn_ActionGroup\\01_digitization_Experiment\\Peel\\S2_20210821T210019_20210821T210020_T08WMA.tif\n"
     ]
    }
   ],
   "source": [
    "image_id = s2_image.id().getInfo()\n",
    "geemap.ee_export_image(ee_object=s2_image.select(s2_export_bands), filename=f'{LOCATION}/S2_{image_id}.tif', region=aoi_fc.geometry(), scale=10)"
   ]
  },
  {
   "cell_type": "markdown",
   "id": "d8e92740-9dc2-4648-b0af-9bc0b2bdf5e3",
   "metadata": {},
   "source": [
    "### Download Arctic DEM"
   ]
  },
  {
   "cell_type": "code",
   "execution_count": 38,
   "id": "d26f9953-fd25-4b5b-904d-3e5e30e69ab2",
   "metadata": {},
   "outputs": [],
   "source": [
    "arcticDEM = ee.Image(\"UMN/PGC/ArcticDEM/V3/2m_mosaic\")"
   ]
  },
  {
   "cell_type": "code",
   "execution_count": 40,
   "id": "f6cc43a4-23d8-416a-81c8-ac3355068d18",
   "metadata": {
    "tags": []
   },
   "outputs": [
    {
     "name": "stdout",
     "output_type": "stream",
     "text": [
      "Generating URL ...\n",
      "Downloading data from https://earthengine.googleapis.com/v1alpha/projects/earthengine-legacy/thumbnails/e643999f6d094c3e52be50468ca38590-2c70dbf362ce1073147a15768e954a0b:getPixels\n",
      "Please wait ...\n",
      "Data downloaded to C:\\Users\\initze\\OneDrive\\146_RTSIn_ActionGroup\\01_digitization_Experiment\\Peel\\ArcticDEM.tif\n"
     ]
    }
   ],
   "source": [
    "geemap.ee_export_image(ee_object=arcticDEM, filename=f'{LOCATION}/ArcticDEM.tif', region=aoi_fc.geometry(), scale=2, crs='EPSG:32608')"
   ]
  },
  {
   "cell_type": "markdown",
   "id": "402cdf83-1f53-4dbe-b1a2-235ce9374349",
   "metadata": {},
   "source": [
    "### Download L8 "
   ]
  },
  {
   "cell_type": "code",
   "execution_count": 68,
   "id": "2e405c75-5b1b-404b-9613-56f2f2ed2a6b",
   "metadata": {},
   "outputs": [],
   "source": [
    "L8_col = ee.ImageCollection(\"LANDSAT/LC08/C02/T1_TOA\").filterBounds(aoi_fc).filterDate('2021-07-01', '2021-08-31')"
   ]
  },
  {
   "cell_type": "code",
   "execution_count": 69,
   "id": "cdd220ec-3578-4b18-8035-36d660adb76d",
   "metadata": {},
   "outputs": [
    {
     "data": {
      "text/plain": [
       "17"
      ]
     },
     "execution_count": 69,
     "metadata": {},
     "output_type": "execute_result"
    }
   ],
   "source": [
    "len(L8_col.toList(100).getInfo())\n",
    "#L8_col.getInfo()"
   ]
  },
  {
   "cell_type": "code",
   "execution_count": 102,
   "id": "e6ed46d2-71ba-49b1-9554-4e8b1fce1f88",
   "metadata": {},
   "outputs": [],
   "source": [
    "L8_image = ee.Image(L8_col.toList(100).get(16))"
   ]
  },
  {
   "cell_type": "code",
   "execution_count": 103,
   "id": "696f7b09-cf89-4c2e-8e2f-ade668e56db6",
   "metadata": {},
   "outputs": [
    {
     "data": {
      "application/vnd.jupyter.widget-view+json": {
       "model_id": "5203d5d1bd73464191ddd5651612223b",
       "version_major": 2,
       "version_minor": 0
      },
      "text/plain": [
       "Map(center=[68.05160666711596, -135.66788358482464], controls=(WidgetControl(options=['position', 'transparent…"
      ]
     },
     "metadata": {},
     "output_type": "display_data"
    }
   ],
   "source": [
    "Map = geemap.Map()\n",
    "Map.add_ee_layer(L8_image, vis_params=dict(min=0, max=0.2))\n",
    "Map.add_ee_layer(aoi_fc)\n",
    "Map.centerObject(aoi_fc, zoom=12)\n",
    "Map"
   ]
  },
  {
   "cell_type": "code",
   "execution_count": 104,
   "id": "d4ebcf02-94bd-4551-ab32-4e863dd4e4e8",
   "metadata": {},
   "outputs": [
    {
     "name": "stdout",
     "output_type": "stream",
     "text": [
      "Generating URL ...\n",
      "Downloading data from https://earthengine.googleapis.com/v1alpha/projects/earthengine-legacy/thumbnails/d5a0a0cad5418756b7ae6cb232639d9a-3acae91e4ef7733251960306875c710e:getPixels\n",
      "Please wait ...\n",
      "Data downloaded to C:\\Users\\initze\\OneDrive\\146_RTSIn_ActionGroup\\01_digitization_Experiment\\Peel\\L8_LC08_139232_20210721.tif\n"
     ]
    }
   ],
   "source": [
    "image_id = L8_image.id().getInfo()\n",
    "geemap.ee_export_image(ee_object=L8_image.select(s2_export_bands), filename=f'{LOCATION}/L8_{image_id}.tif', region=aoi_fc.geometry(), scale=15)"
   ]
  },
  {
   "cell_type": "code",
   "execution_count": null,
   "id": "07f4c24c-9f82-4418-b090-5c9d72c66a4a",
   "metadata": {},
   "outputs": [],
   "source": []
  }
 ],
 "metadata": {
  "kernelspec": {
   "display_name": "Python 3 (ipykernel)",
   "language": "python",
   "name": "python3"
  },
  "language_info": {
   "codemirror_mode": {
    "name": "ipython",
    "version": 3
   },
   "file_extension": ".py",
   "mimetype": "text/x-python",
   "name": "python",
   "nbconvert_exporter": "python",
   "pygments_lexer": "ipython3",
   "version": "3.8.11"
  }
 },
 "nbformat": 4,
 "nbformat_minor": 5
}
