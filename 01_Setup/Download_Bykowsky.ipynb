{
 "cells": [
  {
   "cell_type": "markdown",
   "id": "17ce7f25-c2b0-426a-a883-ae5f9bc3cd38",
   "metadata": {},
   "source": [
    "# Script to download Sentinel2 Landsat and ArcticDEM Data form GEE"
   ]
  },
  {
   "cell_type": "code",
   "execution_count": 1,
   "id": "bc2b7815-7426-4ee6-9253-3a0b5ba84cb9",
   "metadata": {},
   "outputs": [],
   "source": [
    "import geemap\n",
    "import geopandas as gpd\n",
    "from pathlib import Path\n",
    "import ee\n",
    "import geopandas as gpd\n",
    "\n",
    "ee.Initialize()"
   ]
  },
  {
   "cell_type": "code",
   "execution_count": 2,
   "id": "5d22fdb0-1778-4c7a-800b-3c784c60ed8b",
   "metadata": {},
   "outputs": [],
   "source": [
    "LOCATION = 'Bykovsky'\n",
    "vector = f'{LOCATION}/{LOCATION}_AOI_2500.geojson'\n",
    "aoi_fc = geemap.vector_to_ee(vector)\n",
    "crs = 'EPSG:32652'"
   ]
  },
  {
   "cell_type": "code",
   "execution_count": 121,
   "id": "50c21f82-adbb-4344-80dc-a61517197db2",
   "metadata": {
    "tags": []
   },
   "outputs": [],
   "source": [
    "image_date = '2021-07-21'\n",
    "s2_export_bands = ['B2', 'B3', 'B4', 'B5', 'B6', 'B7','B8','B8A', 'B11', 'B12']\n",
    "l8_export_bands = ['B2', 'B3', 'B4', 'B5', 'B6', 'B7', 'B8']"
   ]
  },
  {
   "cell_type": "markdown",
   "id": "07f8d7cb-81a6-4331-b378-41eba8137ccb",
   "metadata": {},
   "source": [
    "### S2 - Select S2 images"
   ]
  },
  {
   "cell_type": "code",
   "execution_count": 31,
   "id": "b4af8def-d020-4102-8653-c5ffff63ceda",
   "metadata": {},
   "outputs": [],
   "source": [
    "s2_col = ee.ImageCollection(\"COPERNICUS/S2\").filterBounds(aoi_fc).filterDate(image_date, '2021-07-22')"
   ]
  },
  {
   "cell_type": "code",
   "execution_count": 54,
   "id": "44667e5c-f06d-4d06-9973-0981b175437e",
   "metadata": {},
   "outputs": [
    {
     "data": {
      "text/plain": [
       "2"
      ]
     },
     "execution_count": 54,
     "metadata": {},
     "output_type": "execute_result"
    }
   ],
   "source": [
    "# Number of intersecting images\n",
    "len(s2_col.toList(10).getInfo())"
   ]
  },
  {
   "cell_type": "markdown",
   "id": "3e1f8def-42dd-48c2-b675-bb1b8086c7b4",
   "metadata": {},
   "source": [
    "#### Select correct image"
   ]
  },
  {
   "cell_type": "code",
   "execution_count": 69,
   "id": "52ac2595-7a99-48d8-a31a-b83b8015a08f",
   "metadata": {},
   "outputs": [],
   "source": [
    "s2_image = ee.Image(s2_col.toList(10).get(1))"
   ]
  },
  {
   "cell_type": "code",
   "execution_count": 94,
   "id": "6d3e3e68-8f2a-4273-bdaf-0eaf00cc0b9a",
   "metadata": {},
   "outputs": [
    {
     "data": {
      "application/vnd.jupyter.widget-view+json": {
       "model_id": "74b7c240037446aa9942beccddb78b4f",
       "version_major": 2,
       "version_minor": 0
      },
      "text/plain": [
       "Map(center=[40, -100], controls=(WidgetControl(options=['position', 'transparent_bg'], widget=HBox(children=(T…"
      ]
     },
     "metadata": {},
     "output_type": "display_data"
    }
   ],
   "source": [
    "Map = geemap.Map()\n",
    "Map.add_ee_layer(s2_image, vis_params=dict(min=0, max=2000))\n",
    "Map.add_ee_layer(aoi_fc)\n",
    "Map.centerObject(s2_image)\n",
    "Map"
   ]
  },
  {
   "cell_type": "markdown",
   "id": "5622b8eb-e27c-4a3f-9731-7bdaaeec3d5a",
   "metadata": {},
   "source": [
    "#### Download S2 image"
   ]
  },
  {
   "cell_type": "code",
   "execution_count": 122,
   "id": "6e63c8b2-8a94-4199-934f-5962af1a0e85",
   "metadata": {},
   "outputs": [
    {
     "name": "stdout",
     "output_type": "stream",
     "text": [
      "Generating URL ...\n",
      "Downloading data from https://earthengine.googleapis.com/v1alpha/projects/earthengine-legacy/thumbnails/ca6f5d2afeb5c78c62a7c981960ec600-fd437b52f3512e2a4bf1acd379430b7f:getPixels\n",
      "Please wait ...\n",
      "Data downloaded to C:\\Users\\initze\\OneDrive\\146_RTSIn_ActionGroup\\01_digitization_Experiment\\Bykovsky\\S2_20210721T035541_20210721T035540_T52WEE.tif\n"
     ]
    }
   ],
   "source": [
    "image_id = s2_image.id().getInfo()\n",
    "geemap.ee_export_image(ee_object=s2_image.select(s2_export_bands), filename=f'{LOCATION}/S2_{image_id}.tif', region=aoi_fc.geometry(), scale=10)"
   ]
  },
  {
   "cell_type": "markdown",
   "id": "d8e92740-9dc2-4648-b0af-9bc0b2bdf5e3",
   "metadata": {},
   "source": [
    "### Download Arctic DEM"
   ]
  },
  {
   "cell_type": "code",
   "execution_count": 92,
   "id": "d26f9953-fd25-4b5b-904d-3e5e30e69ab2",
   "metadata": {},
   "outputs": [],
   "source": [
    "arcticDEM = ee.Image(\"UMN/PGC/ArcticDEM/V3/2m_mosaic\")"
   ]
  },
  {
   "cell_type": "code",
   "execution_count": 95,
   "id": "f6cc43a4-23d8-416a-81c8-ac3355068d18",
   "metadata": {
    "tags": []
   },
   "outputs": [
    {
     "name": "stdout",
     "output_type": "stream",
     "text": [
      "Generating URL ...\n",
      "Downloading data from https://earthengine.googleapis.com/v1alpha/projects/earthengine-legacy/thumbnails/6b0bd5b380250786eff8c78ffe0cb191-1b8ed36dc2b43738a219ec451933574e:getPixels\n",
      "Please wait ...\n",
      "Data downloaded to C:\\Users\\initze\\OneDrive\\146_RTSIn_ActionGroup\\01_digitization_Experiment\\Bykowsky\\ArcticDEM.tif\n"
     ]
    }
   ],
   "source": [
    "geemap.ee_export_image(ee_object=arcticDEM, filename=f'{LOCATION}/ArcticDEM.tif', region=aoi_fc.geometry(), scale=2, crs='EPSG:32652')"
   ]
  },
  {
   "cell_type": "code",
   "execution_count": null,
   "id": "2ee381bd-da20-44bb-8c60-b44ef0b2c922",
   "metadata": {},
   "outputs": [],
   "source": []
  },
  {
   "cell_type": "code",
   "execution_count": 107,
   "id": "2e405c75-5b1b-404b-9613-56f2f2ed2a6b",
   "metadata": {},
   "outputs": [],
   "source": [
    "L8_col = ee.ImageCollection(\"LANDSAT/LC08/C02/T1_TOA\").filterBounds(aoi_fc).filterDate('2021-07-18', '2021-07-23')"
   ]
  },
  {
   "cell_type": "code",
   "execution_count": 108,
   "id": "cdd220ec-3578-4b18-8035-36d660adb76d",
   "metadata": {},
   "outputs": [
    {
     "data": {
      "text/plain": [
       "3"
      ]
     },
     "execution_count": 108,
     "metadata": {},
     "output_type": "execute_result"
    }
   ],
   "source": [
    "len(L8_col.toList(10).getInfo())\n",
    "#L8_col.getInfo()"
   ]
  },
  {
   "cell_type": "code",
   "execution_count": 113,
   "id": "e6ed46d2-71ba-49b1-9554-4e8b1fce1f88",
   "metadata": {},
   "outputs": [],
   "source": [
    "L8_image = ee.Image(L8_col.toList(10).get(1))"
   ]
  },
  {
   "cell_type": "code",
   "execution_count": 114,
   "id": "696f7b09-cf89-4c2e-8e2f-ade668e56db6",
   "metadata": {},
   "outputs": [
    {
     "data": {
      "application/vnd.jupyter.widget-view+json": {
       "model_id": "0b2d179df75648709226612f6738b9d5",
       "version_major": 2,
       "version_minor": 0
      },
      "text/plain": [
       "Map(center=[40, -100], controls=(WidgetControl(options=['position', 'transparent_bg'], widget=HBox(children=(T…"
      ]
     },
     "metadata": {},
     "output_type": "display_data"
    }
   ],
   "source": [
    "Map = geemap.Map()\n",
    "Map.add_ee_layer(L8_image, vis_params=dict(min=0, max=0.2))\n",
    "Map.add_ee_layer(aoi_fc)\n",
    "Map.centerObject(L8_image)\n",
    "Map"
   ]
  },
  {
   "cell_type": "code",
   "execution_count": 124,
   "id": "d4ebcf02-94bd-4551-ab32-4e863dd4e4e8",
   "metadata": {},
   "outputs": [
    {
     "name": "stdout",
     "output_type": "stream",
     "text": [
      "Generating URL ...\n",
      "Downloading data from https://earthengine.googleapis.com/v1alpha/projects/earthengine-legacy/thumbnails/b294aaf74b9820cdb84cc009c9331aa0-3981cefe560bb256cd922b7b15abffe1:getPixels\n",
      "Please wait ...\n",
      "Data downloaded to C:\\Users\\initze\\OneDrive\\146_RTSIn_ActionGroup\\01_digitization_Experiment\\Bykovsky\\L8_LC08_198234_20210718.tif\n"
     ]
    }
   ],
   "source": [
    "image_id = L8_image.id().getInfo()\n",
    "geemap.ee_export_image(ee_object=L8_image.select(l8_export_bands), filename=f'{LOCATION}/L8_{image_id}.tif', region=aoi_fc.geometry(), scale=15)"
   ]
  },
  {
   "cell_type": "markdown",
   "id": "51cf1b97-9e32-4f17-80be-5ad4a64f5201",
   "metadata": {},
   "source": [
    "### Create empty shapefile"
   ]
  },
  {
   "cell_type": "code",
   "execution_count": 6,
   "id": "381b60bd-484e-4fe4-aa7a-ecae84cb798c",
   "metadata": {},
   "outputs": [],
   "source": [
    "gdf = gpd.GeoDataFrame(columns=['id'], crs=crs )"
   ]
  },
  {
   "cell_type": "code",
   "execution_count": 7,
   "id": "6f55af50-35aa-4af6-afcc-687f3b55f2ff",
   "metadata": {},
   "outputs": [
    {
     "ename": "ValueError",
     "evalue": "Cannot write empty DataFrame to file.",
     "output_type": "error",
     "traceback": [
      "\u001b[1;31m---------------------------------------------------------------------------\u001b[0m",
      "\u001b[1;31mValueError\u001b[0m                                Traceback (most recent call last)",
      "\u001b[1;32m~\\AppData\\Local\\Temp/ipykernel_14700/1964969918.py\u001b[0m in \u001b[0;36m<module>\u001b[1;34m\u001b[0m\n\u001b[1;32m----> 1\u001b[1;33m \u001b[0mgdf\u001b[0m\u001b[1;33m.\u001b[0m\u001b[0mto_file\u001b[0m\u001b[1;33m(\u001b[0m\u001b[1;34mf'{LOCATION}/digitized_polygon.shp'\u001b[0m\u001b[1;33m)\u001b[0m\u001b[1;33m\u001b[0m\u001b[1;33m\u001b[0m\u001b[0m\n\u001b[0m",
      "\u001b[1;32m~\\AppData\\Local\\Continuum\\anaconda3\\envs\\geemap\\lib\\site-packages\\geopandas\\geodataframe.py\u001b[0m in \u001b[0;36mto_file\u001b[1;34m(self, filename, driver, schema, index, **kwargs)\u001b[0m\n\u001b[0;32m   1084\u001b[0m         \u001b[1;32mfrom\u001b[0m \u001b[0mgeopandas\u001b[0m\u001b[1;33m.\u001b[0m\u001b[0mio\u001b[0m\u001b[1;33m.\u001b[0m\u001b[0mfile\u001b[0m \u001b[1;32mimport\u001b[0m \u001b[0m_to_file\u001b[0m\u001b[1;33m\u001b[0m\u001b[1;33m\u001b[0m\u001b[0m\n\u001b[0;32m   1085\u001b[0m \u001b[1;33m\u001b[0m\u001b[0m\n\u001b[1;32m-> 1086\u001b[1;33m         \u001b[0m_to_file\u001b[0m\u001b[1;33m(\u001b[0m\u001b[0mself\u001b[0m\u001b[1;33m,\u001b[0m \u001b[0mfilename\u001b[0m\u001b[1;33m,\u001b[0m \u001b[0mdriver\u001b[0m\u001b[1;33m,\u001b[0m \u001b[0mschema\u001b[0m\u001b[1;33m,\u001b[0m \u001b[0mindex\u001b[0m\u001b[1;33m,\u001b[0m \u001b[1;33m**\u001b[0m\u001b[0mkwargs\u001b[0m\u001b[1;33m)\u001b[0m\u001b[1;33m\u001b[0m\u001b[1;33m\u001b[0m\u001b[0m\n\u001b[0m\u001b[0;32m   1087\u001b[0m \u001b[1;33m\u001b[0m\u001b[0m\n\u001b[0;32m   1088\u001b[0m     \u001b[1;32mdef\u001b[0m \u001b[0mset_crs\u001b[0m\u001b[1;33m(\u001b[0m\u001b[0mself\u001b[0m\u001b[1;33m,\u001b[0m \u001b[0mcrs\u001b[0m\u001b[1;33m=\u001b[0m\u001b[1;32mNone\u001b[0m\u001b[1;33m,\u001b[0m \u001b[0mepsg\u001b[0m\u001b[1;33m=\u001b[0m\u001b[1;32mNone\u001b[0m\u001b[1;33m,\u001b[0m \u001b[0minplace\u001b[0m\u001b[1;33m=\u001b[0m\u001b[1;32mFalse\u001b[0m\u001b[1;33m,\u001b[0m \u001b[0mallow_override\u001b[0m\u001b[1;33m=\u001b[0m\u001b[1;32mFalse\u001b[0m\u001b[1;33m)\u001b[0m\u001b[1;33m:\u001b[0m\u001b[1;33m\u001b[0m\u001b[1;33m\u001b[0m\u001b[0m\n",
      "\u001b[1;32m~\\AppData\\Local\\Continuum\\anaconda3\\envs\\geemap\\lib\\site-packages\\geopandas\\io\\file.py\u001b[0m in \u001b[0;36m_to_file\u001b[1;34m(df, filename, driver, schema, index, mode, crs, **kwargs)\u001b[0m\n\u001b[0;32m    302\u001b[0m         \u001b[0mdf\u001b[0m \u001b[1;33m=\u001b[0m \u001b[0mdf\u001b[0m\u001b[1;33m.\u001b[0m\u001b[0mreset_index\u001b[0m\u001b[1;33m(\u001b[0m\u001b[0mdrop\u001b[0m\u001b[1;33m=\u001b[0m\u001b[1;32mFalse\u001b[0m\u001b[1;33m)\u001b[0m\u001b[1;33m\u001b[0m\u001b[1;33m\u001b[0m\u001b[0m\n\u001b[0;32m    303\u001b[0m     \u001b[1;32mif\u001b[0m \u001b[0mschema\u001b[0m \u001b[1;32mis\u001b[0m \u001b[1;32mNone\u001b[0m\u001b[1;33m:\u001b[0m\u001b[1;33m\u001b[0m\u001b[1;33m\u001b[0m\u001b[0m\n\u001b[1;32m--> 304\u001b[1;33m         \u001b[0mschema\u001b[0m \u001b[1;33m=\u001b[0m \u001b[0minfer_schema\u001b[0m\u001b[1;33m(\u001b[0m\u001b[0mdf\u001b[0m\u001b[1;33m)\u001b[0m\u001b[1;33m\u001b[0m\u001b[1;33m\u001b[0m\u001b[0m\n\u001b[0m\u001b[0;32m    305\u001b[0m     \u001b[1;32mif\u001b[0m \u001b[0mcrs\u001b[0m\u001b[1;33m:\u001b[0m\u001b[1;33m\u001b[0m\u001b[1;33m\u001b[0m\u001b[0m\n\u001b[0;32m    306\u001b[0m         \u001b[0mcrs\u001b[0m \u001b[1;33m=\u001b[0m \u001b[0mpyproj\u001b[0m\u001b[1;33m.\u001b[0m\u001b[0mCRS\u001b[0m\u001b[1;33m.\u001b[0m\u001b[0mfrom_user_input\u001b[0m\u001b[1;33m(\u001b[0m\u001b[0mcrs\u001b[0m\u001b[1;33m)\u001b[0m\u001b[1;33m\u001b[0m\u001b[1;33m\u001b[0m\u001b[0m\n",
      "\u001b[1;32m~\\AppData\\Local\\Continuum\\anaconda3\\envs\\geemap\\lib\\site-packages\\geopandas\\io\\file.py\u001b[0m in \u001b[0;36minfer_schema\u001b[1;34m(df)\u001b[0m\n\u001b[0;32m    360\u001b[0m \u001b[1;33m\u001b[0m\u001b[0m\n\u001b[0;32m    361\u001b[0m     \u001b[1;32mif\u001b[0m \u001b[0mdf\u001b[0m\u001b[1;33m.\u001b[0m\u001b[0mempty\u001b[0m\u001b[1;33m:\u001b[0m\u001b[1;33m\u001b[0m\u001b[1;33m\u001b[0m\u001b[0m\n\u001b[1;32m--> 362\u001b[1;33m         \u001b[1;32mraise\u001b[0m \u001b[0mValueError\u001b[0m\u001b[1;33m(\u001b[0m\u001b[1;34m\"Cannot write empty DataFrame to file.\"\u001b[0m\u001b[1;33m)\u001b[0m\u001b[1;33m\u001b[0m\u001b[1;33m\u001b[0m\u001b[0m\n\u001b[0m\u001b[0;32m    363\u001b[0m \u001b[1;33m\u001b[0m\u001b[0m\n\u001b[0;32m    364\u001b[0m     \u001b[1;31m# Since https://github.com/Toblerity/Fiona/issues/446 resolution,\u001b[0m\u001b[1;33m\u001b[0m\u001b[1;33m\u001b[0m\u001b[1;33m\u001b[0m\u001b[0m\n",
      "\u001b[1;31mValueError\u001b[0m: Cannot write empty DataFrame to file."
     ]
    }
   ],
   "source": [
    "gdf.to_file(f'{LOCATION}/digitized_polygon.shp')"
   ]
  },
  {
   "cell_type": "code",
   "execution_count": null,
   "id": "86d4c7b8-617a-442b-9afb-32e351edf464",
   "metadata": {},
   "outputs": [],
   "source": []
  }
 ],
 "metadata": {
  "kernelspec": {
   "display_name": "Python 3 (ipykernel)",
   "language": "python",
   "name": "python3"
  },
  "language_info": {
   "codemirror_mode": {
    "name": "ipython",
    "version": 3
   },
   "file_extension": ".py",
   "mimetype": "text/x-python",
   "name": "python",
   "nbconvert_exporter": "python",
   "pygments_lexer": "ipython3",
   "version": "3.8.11"
  }
 },
 "nbformat": 4,
 "nbformat_minor": 5
}
